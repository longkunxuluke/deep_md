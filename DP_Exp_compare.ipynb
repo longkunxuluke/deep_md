{
 "cells": [
  {
   "cell_type": "code",
   "execution_count": null,
   "metadata": {
    "ExecuteTime": {
     "end_time": "2021-12-17T07:16:07.409802Z",
     "start_time": "2021-12-17T07:16:07.382324Z"
    }
   },
   "outputs": [],
   "source": [
    "import matplotlib\n",
    "matplotlib.rcParams['font.size'] = 24\n",
    "import matplotlib.pyplot as plt\n",
    "matplotlib.rcParams.update({\n",
    "    \"font.family\": \"serif\",\n",
    "})"
   ]
  },
  {
   "cell_type": "code",
   "execution_count": null,
   "metadata": {
    "ExecuteTime": {
     "end_time": "2021-12-17T07:16:07.183513Z",
     "start_time": "2021-12-17T07:16:05.775086Z"
    }
   },
   "outputs": [],
   "source": [
    "import glob\n",
    "import numpy as np\n",
    "import pandas as pd\n",
    "\n",
    "from pymatgen.analysis.phase_diagram import PDEntry, PhaseDiagram\n",
    "from pymatgen.core import Composition, Element, Structure\n",
    "from pymatgen.io.lammps.data import LammpsData\n",
    "from pymatgen.io.lammps.outputs import parse_lammps_dumps\n",
    "from pymatgen.analysis.diffusion_analyzer import get_conversion_factor\n",
    "from pymatgen.io.lammps.outputs import parse_lammps_log\n",
    "import scipy.constants as const"
   ]
  },
  {
   "cell_type": "code",
   "execution_count": null,
   "metadata": {
    "ExecuteTime": {
     "end_time": "2021-12-17T07:16:08.534454Z",
     "start_time": "2021-12-17T07:16:08.343938Z"
    }
   },
   "outputs": [],
   "source": [
    "import plotly\n",
    "import plotly.express as px\n",
    "import plotly.figure_factory as ff\n",
    "import numpy as np\n",
    "import seaborn as sns"
   ]
  },
  {
   "cell_type": "code",
   "execution_count": null,
   "metadata": {
    "ExecuteTime": {
     "end_time": "2021-12-17T07:16:09.040289Z",
     "start_time": "2021-12-17T07:16:09.035437Z"
    }
   },
   "outputs": [],
   "source": [
    "t_steps = np.linspace(0, 10**3, 5001)"
   ]
  },
  {
   "cell_type": "code",
   "execution_count": null,
   "metadata": {
    "ExecuteTime": {
     "end_time": "2021-12-17T07:16:09.452294Z",
     "start_time": "2021-12-17T07:16:09.448403Z"
    }
   },
   "outputs": [],
   "source": [
    "def fit_msd(data):\n",
    "    start = 100\n",
    "    end = 1000\n",
    "    n = data.shape[0]\n",
    "    k, b = np.polyfit(np.linspace(0, 0.2*(n-1), n)[start:end], data[start:end], 1)\n",
    "    return k, b"
   ]
  },
  {
   "cell_type": "code",
   "execution_count": null,
   "metadata": {
    "ExecuteTime": {
     "end_time": "2021-12-17T07:16:11.639415Z",
     "start_time": "2021-12-17T07:16:11.592148Z"
    }
   },
   "outputs": [],
   "source": [
    "path_msd = glob.glob('LiSiPS/time/*/*/msd.npy')\n",
    "\n",
    "rawtime = pd.DataFrame([{'temperature': int(path.split('/')[2]),\n",
    "                    'n_sample': path.split('/')[3],\n",
    "                    'diffusivity': fit_msd(np.sum(np.load(path), axis=1))[0]/6 , } \n",
    "                   for path in path_msd])\n",
    "\n",
    "rows = []\n",
    "for temp, part in rawtime.groupby('temperature'):\n",
    "    rows.append({\n",
    "        'temperature': temp,\n",
    "        'D': part['diffusivity'].values.mean(),\n",
    "        'D_std': part['diffusivity'].values.std(),\n",
    "    })\n",
    "si = pd.DataFrame(rows)"
   ]
  },
  {
   "cell_type": "code",
   "execution_count": null,
   "metadata": {
    "ExecuteTime": {
     "end_time": "2021-12-17T07:16:12.748051Z",
     "start_time": "2021-12-17T07:16:12.569110Z"
    }
   },
   "outputs": [],
   "source": [
    "path_msd = glob.glob('LiSiPS/disorder/*/*/msd.npy')\n",
    "\n",
    "rawtime = pd.DataFrame([{'temperature': int(path.split('/')[2]),\n",
    "                    'n_sample': path.split('/')[3],\n",
    "                    'diffusivity': fit_msd(np.sum(np.load(path), axis=1))[0]/6 , } \n",
    "                   for path in path_msd])\n",
    "\n",
    "rows = []\n",
    "for temp, part in rawtime.groupby('temperature'):\n",
    "    rows.append({\n",
    "        'temperature': temp,\n",
    "        'D': part['diffusivity'].values.mean(),\n",
    "        'D_std': part['diffusivity'].values.std(),\n",
    "    })\n",
    "disordersi = pd.DataFrame(rows)"
   ]
  },
  {
   "cell_type": "code",
   "execution_count": null,
   "metadata": {
    "ExecuteTime": {
     "end_time": "2021-12-17T07:16:13.430704Z",
     "start_time": "2021-12-17T07:16:13.358603Z"
    }
   },
   "outputs": [],
   "source": [
    "path_msd = glob.glob('LiGePS/time/*/*/msd.npy')\n",
    "\n",
    "rawtime = pd.DataFrame([{'temperature': int(path.split('/')[2]),\n",
    "                    'n_sample': path.split('/')[3],\n",
    "                    'diffusivity': fit_msd(np.sum(np.load(path), axis=1))[0]/6 , } \n",
    "                   for path in path_msd])\n",
    "\n",
    "rows = []\n",
    "for temp, part in rawtime.groupby('temperature'):\n",
    "    rows.append({\n",
    "        'temperature': temp,\n",
    "        'D': part['diffusivity'].values.mean(),\n",
    "        'D_std': part['diffusivity'].values.std(),\n",
    "    })\n",
    "ge = pd.DataFrame(rows)"
   ]
  },
  {
   "cell_type": "code",
   "execution_count": null,
   "metadata": {
    "ExecuteTime": {
     "end_time": "2021-12-17T07:16:14.529210Z",
     "start_time": "2021-12-17T07:16:14.429962Z"
    }
   },
   "outputs": [],
   "source": [
    "path_msd = glob.glob('LiGePS/disorder/*/*/msd.npy')\n",
    "\n",
    "rawtime = pd.DataFrame([{'temperature': int(path.split('/')[2]),\n",
    "                    'n_sample': path.split('/')[3],\n",
    "                    'diffusivity': fit_msd(np.sum(np.load(path), axis=1))[0]/6 , } \n",
    "                   for path in path_msd])\n",
    "\n",
    "rows = []\n",
    "for temp, part in rawtime.groupby('temperature'):\n",
    "    rows.append({\n",
    "        'temperature': temp,\n",
    "        'D': part['diffusivity'].values.mean(),\n",
    "        'D_std': part['diffusivity'].values.std(),\n",
    "    })\n",
    "disorderge = pd.DataFrame(rows)"
   ]
  },
  {
   "cell_type": "code",
   "execution_count": null,
   "metadata": {
    "ExecuteTime": {
     "end_time": "2021-12-17T07:16:15.259853Z",
     "start_time": "2021-12-17T07:16:15.166444Z"
    }
   },
   "outputs": [],
   "source": [
    "path_msd = glob.glob('LiSnPS/time/*/*/msd.npy')\n",
    "\n",
    "rawtime = pd.DataFrame([{'temperature': int(path.split('/')[2]),\n",
    "                    'n_sample': path.split('/')[3],\n",
    "                    'diffusivity': fit_msd(np.sum(np.load(path), axis=1))[0]/6 , } \n",
    "                   for path in path_msd])\n",
    "\n",
    "rows = []\n",
    "for temp, part in rawtime.groupby('temperature'):\n",
    "    rows.append({\n",
    "        'temperature': temp,\n",
    "        'D': part['diffusivity'].values.mean(),\n",
    "        'D_std': part['diffusivity'].values.std(),\n",
    "    })\n",
    "sn = pd.DataFrame(rows)"
   ]
  },
  {
   "cell_type": "code",
   "execution_count": null,
   "metadata": {
    "ExecuteTime": {
     "end_time": "2021-12-17T07:16:15.895002Z",
     "start_time": "2021-12-17T07:16:15.861527Z"
    }
   },
   "outputs": [],
   "source": [
    "path_msd = glob.glob('LiSnPS/pbesol/*/*/msd.npy')\n",
    "\n",
    "rawtime = pd.DataFrame([{'temperature': int(path.split('/')[2][:3]),\n",
    "                    'n_sample': path.split('/')[3],\n",
    "                    'diffusivity': fit_msd(np.sum(np.load(path), axis=1))[0]/6 , } \n",
    "                   for path in path_msd])\n",
    "\n",
    "rows = []\n",
    "for temp, part in rawtime.groupby('temperature'):\n",
    "    rows.append({\n",
    "        'temperature': temp,\n",
    "        'D': part['diffusivity'].values.mean(),\n",
    "        'D_std': part['diffusivity'].values.std(),\n",
    "    })\n",
    "pbesolsn = pd.DataFrame(rows)"
   ]
  },
  {
   "cell_type": "code",
   "execution_count": null,
   "metadata": {
    "ExecuteTime": {
     "end_time": "2021-12-17T07:16:16.828609Z",
     "start_time": "2021-12-17T07:16:16.737067Z"
    }
   },
   "outputs": [],
   "source": [
    "path_msd = glob.glob('LiSnPS/disorder/*/*/msd.npy')\n",
    "\n",
    "rawtime = pd.DataFrame([{'temperature': int(path.split('/')[2]),\n",
    "                    'n_sample': path.split('/')[3],\n",
    "                    'diffusivity': fit_msd(np.sum(np.load(path), axis=1))[0]/6 , } \n",
    "                   for path in path_msd])\n",
    "\n",
    "rows = []\n",
    "for temp, part in rawtime.groupby('temperature'):\n",
    "    rows.append({\n",
    "        'temperature': temp,\n",
    "        'D': part['diffusivity'].values.mean(),\n",
    "        'D_std': part['diffusivity'].values.std(),\n",
    "    })\n",
    "disordersn = pd.DataFrame(rows)"
   ]
  },
  {
   "cell_type": "code",
   "execution_count": null,
   "metadata": {
    "ExecuteTime": {
     "end_time": "2021-12-17T07:16:17.705009Z",
     "start_time": "2021-12-17T07:16:17.693125Z"
    }
   },
   "outputs": [],
   "source": [
    "si"
   ]
  },
  {
   "cell_type": "code",
   "execution_count": null,
   "metadata": {
    "ExecuteTime": {
     "end_time": "2021-12-17T07:16:18.423721Z",
     "start_time": "2021-12-17T07:16:18.412572Z"
    }
   },
   "outputs": [],
   "source": [
    "disordersi"
   ]
  },
  {
   "cell_type": "code",
   "execution_count": null,
   "metadata": {
    "ExecuteTime": {
     "end_time": "2021-12-17T07:16:19.149149Z",
     "start_time": "2021-12-17T07:16:19.139691Z"
    }
   },
   "outputs": [],
   "source": [
    "ge"
   ]
  },
  {
   "cell_type": "code",
   "execution_count": null,
   "metadata": {
    "ExecuteTime": {
     "end_time": "2021-12-17T07:16:19.788602Z",
     "start_time": "2021-12-17T07:16:19.777917Z"
    }
   },
   "outputs": [],
   "source": [
    "disorderge"
   ]
  },
  {
   "cell_type": "code",
   "execution_count": null,
   "metadata": {
    "ExecuteTime": {
     "end_time": "2021-12-17T07:16:20.396712Z",
     "start_time": "2021-12-17T07:16:20.381464Z"
    }
   },
   "outputs": [],
   "source": [
    "sn"
   ]
  },
  {
   "cell_type": "code",
   "execution_count": null,
   "metadata": {
    "ExecuteTime": {
     "end_time": "2021-12-17T07:16:20.932718Z",
     "start_time": "2021-12-17T07:16:20.926580Z"
    }
   },
   "outputs": [],
   "source": [
    "pbesolsn"
   ]
  },
  {
   "cell_type": "code",
   "execution_count": null,
   "metadata": {
    "ExecuteTime": {
     "end_time": "2021-12-17T07:16:21.661886Z",
     "start_time": "2021-12-17T07:16:21.633006Z"
    }
   },
   "outputs": [],
   "source": [
    "disordersn"
   ]
  },
  {
   "cell_type": "code",
   "execution_count": null,
   "metadata": {
    "ExecuteTime": {
     "end_time": "2021-12-17T07:16:22.643097Z",
     "start_time": "2021-12-17T07:16:22.634888Z"
    }
   },
   "outputs": [],
   "source": [
    "fmts = ['^', 'o', 'v']"
   ]
  },
  {
   "cell_type": "code",
   "execution_count": null,
   "metadata": {
    "ExecuteTime": {
     "end_time": "2021-12-17T07:16:25.164560Z",
     "start_time": "2021-12-17T07:16:24.713617Z"
    }
   },
   "outputs": [],
   "source": [
    "stc = Structure.from_file('LiSiPS/cifs/LiSiPS_exp300K.cif')\n",
    "get_conversion_factor(stc, 'Li', 300) * si['D'].values[0] * 10**-4"
   ]
  },
  {
   "cell_type": "code",
   "execution_count": null,
   "metadata": {
    "ExecuteTime": {
     "end_time": "2021-12-17T07:16:26.410825Z",
     "start_time": "2021-12-17T07:16:26.018727Z"
    }
   },
   "outputs": [],
   "source": [
    "stc = Structure.from_file('LiGePS/cifs/LiGePS_exp300K.cif')\n",
    "\n",
    "get_conversion_factor(stc, 'Li', 300) * ge['D'].values[0] * 10**-4"
   ]
  },
  {
   "cell_type": "code",
   "execution_count": null,
   "metadata": {
    "ExecuteTime": {
     "end_time": "2020-12-22T08:41:30.363657Z",
     "start_time": "2020-12-22T08:41:30.358689Z"
    }
   },
   "outputs": [],
   "source": [
    "get_conversion_factor(stc, 'Li', 300) * ge['D'].values[0] * 10**-4"
   ]
  },
  {
   "cell_type": "code",
   "execution_count": null,
   "metadata": {
    "ExecuteTime": {
     "end_time": "2020-12-22T08:41:31.005564Z",
     "start_time": "2020-12-22T08:41:30.995976Z"
    }
   },
   "outputs": [],
   "source": [
    "get_conversion_factor(stc, 'Li', 300) * 10**-8"
   ]
  },
  {
   "cell_type": "code",
   "execution_count": null,
   "metadata": {
    "ExecuteTime": {
     "end_time": "2020-12-22T08:41:33.865039Z",
     "start_time": "2020-12-22T08:41:33.167315Z"
    }
   },
   "outputs": [],
   "source": [
    "stc = Structure.from_file('LiSnPS/cifs/LiSnPS_exp300K.cif')\n",
    "get_conversion_factor(stc, 'Li', 300) * sn['D'].values[0] * 10**-4"
   ]
  },
  {
   "cell_type": "code",
   "execution_count": null,
   "metadata": {
    "ExecuteTime": {
     "end_time": "2021-12-17T07:16:34.297912Z",
     "start_time": "2021-12-17T07:16:34.290626Z"
    }
   },
   "outputs": [],
   "source": [
    "expLabels = glob.glob('exp-data/*.csv')"
   ]
  },
  {
   "cell_type": "code",
   "execution_count": null,
   "metadata": {
    "ExecuteTime": {
     "end_time": "2021-12-17T07:16:34.909682Z",
     "start_time": "2021-12-17T07:16:34.905502Z"
    }
   },
   "outputs": [],
   "source": [
    "expLabels"
   ]
  },
  {
   "cell_type": "code",
   "execution_count": null,
   "metadata": {
    "ExecuteTime": {
     "end_time": "2021-12-17T07:16:39.780141Z",
     "start_time": "2021-12-17T07:16:39.765288Z"
    }
   },
   "outputs": [],
   "source": [
    "expData = [pd.read_csv(csv) for csv in expLabels] "
   ]
  },
  {
   "cell_type": "code",
   "execution_count": null,
   "metadata": {
    "ExecuteTime": {
     "end_time": "2021-12-17T07:16:41.423351Z",
     "start_time": "2021-12-17T07:16:41.413144Z"
    }
   },
   "outputs": [],
   "source": [
    "marzari = pd.read_csv('exp-data/Marzari-LiGePS.csv')"
   ]
  },
  {
   "cell_type": "code",
   "execution_count": null,
   "metadata": {
    "ExecuteTime": {
     "end_time": "2021-12-17T07:16:44.521762Z",
     "start_time": "2021-12-17T07:16:44.514139Z"
    }
   },
   "outputs": [],
   "source": [
    "mo = pd.read_csv('exp-data/Mo-LiGePS.csv')"
   ]
  },
  {
   "cell_type": "code",
   "execution_count": null,
   "metadata": {
    "ExecuteTime": {
     "end_time": "2021-12-17T07:16:45.138456Z",
     "start_time": "2021-12-17T07:16:45.129837Z"
    }
   },
   "outputs": [],
   "source": [
    "moSi2013 = pd.read_csv('exp-data/Ong-LiSiPS-2013.csv')\n",
    "moSn2013 = pd.read_csv('exp-data/Ong-LiSnPS-2013.csv')"
   ]
  },
  {
   "cell_type": "code",
   "execution_count": null,
   "metadata": {
    "ExecuteTime": {
     "end_time": "2021-12-17T07:16:45.643050Z",
     "start_time": "2021-12-17T07:16:45.637788Z"
    }
   },
   "outputs": [],
   "source": [
    "hautier = pd.read_csv('exp-data/Hautier-LiGePS.csv')"
   ]
  },
  {
   "cell_type": "code",
   "execution_count": null,
   "metadata": {
    "ExecuteTime": {
     "end_time": "2021-12-17T07:16:46.090868Z",
     "start_time": "2021-12-17T07:16:46.081562Z"
    }
   },
   "outputs": [],
   "source": [
    "kuhnligeps = pd.read_csv('exp-data/Kuhn-LiGePS.csv')\n",
    "kuhnlisips = pd.read_csv('exp-data/Kuhn-LiSiPS.csv')\n",
    "kuhnlisnps = pd.read_csv('exp-data/Kuhn-LiSnPS.csv')"
   ]
  },
  {
   "cell_type": "code",
   "execution_count": null,
   "metadata": {
    "ExecuteTime": {
     "end_time": "2021-12-17T07:16:47.587715Z",
     "start_time": "2021-12-17T07:16:47.580442Z"
    }
   },
   "outputs": [],
   "source": [
    "kuhn_ees = pd.read_csv('exp-data/kuhn-LGPS-EES-2013.csv')"
   ]
  },
  {
   "cell_type": "code",
   "execution_count": null,
   "metadata": {
    "ExecuteTime": {
     "end_time": "2021-12-17T07:16:47.997908Z",
     "start_time": "2021-12-17T07:16:47.991734Z"
    }
   },
   "outputs": [],
   "source": [
    "sn = sn.drop(index=5)"
   ]
  },
  {
   "cell_type": "code",
   "execution_count": null,
   "metadata": {
    "ExecuteTime": {
     "end_time": "2021-12-17T07:16:51.881925Z",
     "start_time": "2021-12-17T07:16:48.480909Z"
    }
   },
   "outputs": [],
   "source": [
    "fig = plt.figure(figsize=[8, 7], dpi=600)\n",
    "\n",
    "ax = fig.gca()\n",
    "ax.spines[\"bottom\"].set_linewidth(2)\n",
    "ax.spines[\"top\"].set_linewidth(2)\n",
    "ax.spines[\"left\"].set_linewidth(2)\n",
    "ax.spines[\"right\"].set_linewidth(2)\n",
    "\n",
    "\n",
    "\n",
    "plt.scatter(1000/disordersi['temperature']-0.1, disordersi['D']*10**-8, \n",
    "            color='blue', s=300, label='LiSiPS disorder', marker='^')\n",
    "plt.scatter(1000/disorderge['temperature'], disorderge['D']*10**-8, \n",
    "            color='orange', s=300, label='LiGePS disorder', marker='o')\n",
    "plt.scatter(1000/disordersn['temperature']+0.1, disordersn['D']*10**-8, \n",
    "            color='red', s=300, label='LiSnPS disorder', marker='v')\n",
    "\n",
    "plt.scatter(1000/si['temperature']-0.1, si['D']*10**-8, \n",
    "            color='blue', facecolor='none', s=300, marker='^', \n",
    "            linewidths=3, label='LiSiPS order')\n",
    "plt.scatter(1000/ge['temperature'], ge['D']*10**-8, \n",
    "            color='orange', facecolor='none', marker='o', \n",
    "            s=300, linewidths=3, label='LiGePS order')\n",
    "plt.scatter(1000/sn['temperature']+0.1, sn['D']*10**-8,\n",
    "            color='red', facecolor='none', s=300, marker='v', \n",
    "            linewidths=3, label='LiSnPS order')\n",
    "\n",
    "plt.legend(loc=1, fontsize=16)\n",
    "''' \n",
    "plt.plot(1000/disordersi['temperature']-0.1, disordersi['D']*10**-8, \n",
    "            color='blue', linestyle='dashed', alpha=0.3)\n",
    "plt.plot(1000/disorderge['temperature'], disorderge['D']*10**-8, \n",
    "            color='orange', linestyle='dashed', alpha=0.3)\n",
    "plt.plot(1000/disordersn['temperature']+0.1, disordersn['D']*10**-8, \n",
    "            color='red', linestyle='dashed', alpha=0.3)\n",
    "\n",
    "plt.plot(1000/si['temperature']-0.1, si['D']*10**-8, \n",
    "            color='blue', linestyle='dashed', alpha=0.3)\n",
    "plt.plot(1000/ge['temperature'], ge['D']*10**-8, \n",
    "            color='orange', linestyle='dashed', alpha=0.3)\n",
    "plt.plot(1000/sn['temperature']+0.1, sn['D']*10**-8, \n",
    "            color='red', linestyle='dashed', alpha=0.3)\n",
    "'''\n",
    "        \n",
    "plt.yscale('log')\n",
    "\n",
    "#plt.ylim(10**(-4.5), 10**(0),)\n",
    "plt.ylim(10**(-11.5), 10**(-8.5),)\n",
    "plt.xlim(1.3, 4.2)\n",
    "#plt.grid()\n",
    "plt.xlabel('1000/T($K^{-1}$)', fontsize=24)\n",
    "plt.ylabel('D ($m^2/s$)', fontsize=24)\n",
    "plt.yticks(fontsize=22)\n",
    "plt.xticks([1, 1.5, 2, 2.5, 3, 3.5, 4], fontsize=20)"
   ]
  },
  {
   "cell_type": "code",
   "execution_count": null,
   "metadata": {
    "ExecuteTime": {
     "end_time": "2021-12-17T07:16:52.683936Z",
     "start_time": "2021-12-17T07:16:52.071395Z"
    },
    "scrolled": false
   },
   "outputs": [],
   "source": [
    "fig = plt.figure(figsize=[8, 7], )\n",
    "\n",
    "ax = fig.gca()\n",
    "ax.spines[\"bottom\"].set_linewidth(2)\n",
    "ax.spines[\"top\"].set_linewidth(2)\n",
    "ax.spines[\"left\"].set_linewidth(2)\n",
    "ax.spines[\"right\"].set_linewidth(2)\n",
    "\n",
    "plt.scatter(1000/disordersi['temperature'], disordersi['D']*10**-8, \n",
    "            color='blue', s=300, label='DP-PBE LiSiPS', marker='^')\n",
    "plt.scatter(1000/disorderge['temperature'], disorderge['D']*10**-8, \n",
    "            color='orange', s=300, label='DP-PBE LiGePS', marker='o')\n",
    "plt.scatter(1000/disordersn['temperature'], disordersn['D']*10**-8, \n",
    "            color='red', s=300, label='DP-PBE LiSnPS', marker='v')\n",
    "\n",
    "plt.scatter(1000/si['temperature'], si['D']*10**-8, \n",
    "            color='blue', facecolor='none', s=200, marker='^', \n",
    "            linewidths=3, label='exp. LiSiPS 2013')\n",
    "plt.scatter(1000/ge['temperature'], ge['D']*10**-8, \n",
    "            color='orange', facecolor='none', marker='o', s=200, \n",
    "            linewidths=3, label='exp. LiGePS 2013')\n",
    "plt.scatter(1000/sn['temperature'], sn['D']*10**-8,\n",
    "            color='red', facecolor='none', s=200, marker='v', \n",
    "            linewidths=3, label='exp. LiSnPS 2013')\n",
    "\n",
    "plt.legend(loc=3, fontsize=20)\n",
    "    \n",
    "plt.yscale('log')\n",
    "\n",
    "#plt.ylim(10**(-4.5), 10**(0),)\n",
    "plt.ylim(10**(-11.5), 10**(-8),)\n",
    "plt.xlim(0.5, 4.2)\n",
    "#plt.grid()\n",
    "plt.xlabel('1000/T(K)', fontsize=25)\n",
    "plt.ylabel('D ($m^2/s$)', fontsize=25)\n",
    "plt.yticks(fontsize=22)\n",
    "plt.xticks([1, 1.5, 2, 2.5, 3, 3.5, 4], fontsize=20)"
   ]
  },
  {
   "cell_type": "code",
   "execution_count": null,
   "metadata": {
    "ExecuteTime": {
     "end_time": "2021-12-17T07:16:53.318613Z",
     "start_time": "2021-12-17T07:16:52.853628Z"
    }
   },
   "outputs": [],
   "source": [
    "fig = plt.figure(figsize=[8, 7], )\n",
    "\n",
    "ax = fig.gca()\n",
    "ax.spines[\"bottom\"].set_linewidth(2)\n",
    "ax.spines[\"top\"].set_linewidth(2)\n",
    "ax.spines[\"left\"].set_linewidth(2)\n",
    "ax.spines[\"right\"].set_linewidth(2)\n",
    "\n",
    "\n",
    "\n",
    "plt.scatter(1000/disordersi['temperature'], disordersi['D']*10**-8, \n",
    "            color='blue', s=300, label='DP-PBE LiSiPS', marker='^')\n",
    "plt.scatter(1000/disorderge['temperature'], disorderge['D']*10**-8, \n",
    "            color='orange', s=300, label='DP-PBE LiGePS', marker='o')\n",
    "plt.scatter(1000/disordersn['temperature'], disordersn['D']*10**-8, \n",
    "            color='red', s=300, label='DP-PBE LiSnPS', marker='v')\n",
    "\n",
    "plt.scatter(1000/si['temperature'], si['D']*10**-8, \n",
    "            color='blue', facecolor='none', s=200, marker='^', \n",
    "            linewidths=3, label='exp. LiSiPS 2013')\n",
    "plt.scatter(1000/ge['temperature'], ge['D']*10**-8, \n",
    "            color='orange', facecolor='none', marker='o', s=200, \n",
    "            linewidths=3, label='exp. LiGePS 2013')\n",
    "plt.scatter(1000/sn['temperature'], sn['D']*10**-8,\n",
    "            color='red', facecolor='none', s=200, marker='v', \n",
    "            linewidths=3, label='exp. LiSnPS 2013')\n",
    "\n",
    "plt.legend(loc=3, fontsize=20)\n",
    "    \n",
    "plt.yscale('log')\n",
    "\n",
    "#plt.ylim(10**(-4.5), 10**(0),)\n",
    "plt.ylim(10**(-11.5), 10**(-8),)\n",
    "plt.xlim(0.5, 4.2)\n",
    "#plt.grid()\n",
    "plt.xlabel('1000/T(K)', fontsize=25)\n",
    "plt.ylabel('D ($m^2/s$)', fontsize=25)\n",
    "plt.yticks(fontsize=22)\n",
    "plt.xticks([1, 1.5, 2, 2.5, 3, 3.5, 4], fontsize=20)"
   ]
  },
  {
   "cell_type": "code",
   "execution_count": null,
   "metadata": {
    "ExecuteTime": {
     "end_time": "2021-12-17T07:16:58.233434Z",
     "start_time": "2021-12-17T07:16:53.490846Z"
    }
   },
   "outputs": [],
   "source": [
    "fig = plt.figure(figsize=[12, 10], dpi=600)\n",
    "\n",
    "ax = fig.gca()\n",
    "ax.spines[\"bottom\"].set_linewidth(2)\n",
    "ax.spines[\"top\"].set_linewidth(2)\n",
    "ax.spines[\"left\"].set_linewidth(2)\n",
    "ax.spines[\"right\"].set_linewidth(2)\n",
    "\n",
    "plt.scatter(mo['x'], 10**mo['Curve1'], label='Mo et al. 2012',\n",
    "           s=300, marker='d', color='blue', alpha=0.7)\n",
    "plt.scatter(marzari['x'], 10**marzari['Curve1'], label='Marzari et al. 2017', \n",
    "           s=180, marker='s', color='orange', alpha=0.7)\n",
    "plt.scatter(hautier['x'], 10**hautier['Curve1'], label='Hautier et al. 2019', \n",
    "           s=400, marker='v', color='grey', alpha=0.7)\n",
    "plt.scatter(kuhnligeps['x'], 10**kuhnligeps['Curve1'], label='Kuhn et al. 2013',\n",
    "           s=300, marker='o', color='red', alpha=0.8)\n",
    "\n",
    "k, b = np.polyfit(mo['x'], mo['Curve1'], 1)\n",
    "xe = np.linspace(1, 4, 4,)\n",
    "plt.plot(xe, 10**(k*xe+b), linestyle='dashed', color='blue', linewidth=2)\n",
    "\n",
    "k, b = np.polyfit(marzari['x'], marzari['Curve1'], 1)\n",
    "xe = np.linspace(1, 4, 4,)\n",
    "plt.plot(xe, 10**(k*xe+b), linestyle='dashed', color='orange', linewidth=3)\n",
    "\n",
    "k, b = np.polyfit(hautier['x'], hautier['Curve1'], 1)\n",
    "xe = np.linspace(1, 4, 4,)\n",
    "plt.plot(xe, 10**(k*xe+b), linestyle='dashed', color='grey', linewidth=2)\n",
    "\n",
    "plt.vlines(3.33, 10**-13, 10**-7, color='grey', alpha=0.6, linestyle='dashed', linewidth=3)\n",
    "\n",
    "plt.legend(loc=3, fontsize=20)\n",
    "    \n",
    "plt.yscale('log')\n",
    "\n",
    "#plt.ylim(10**(-4.5), 10**(0),)\n",
    "plt.ylim(10**(-13), 10**(-7))\n",
    "plt.xlim(0.5, 4.5)\n",
    "#plt.grid()\n",
    "plt.xlabel('1000/T ($K^{-1}$)', fontsize=26)\n",
    "plt.ylabel('D $(m^2/s$)', fontsize=26)\n",
    "plt.yticks(fontsize=22)\n",
    "plt.xticks(fontsize=22)"
   ]
  },
  {
   "cell_type": "code",
   "execution_count": null,
   "metadata": {
    "ExecuteTime": {
     "end_time": "2021-12-17T07:16:59.694116Z",
     "start_time": "2021-12-17T07:16:59.684778Z"
    }
   },
   "outputs": [],
   "source": [
    "kuhnlisnps"
   ]
  },
  {
   "cell_type": "code",
   "execution_count": null,
   "metadata": {
    "ExecuteTime": {
     "end_time": "2021-12-17T07:17:05.819445Z",
     "start_time": "2021-12-17T07:17:00.017303Z"
    }
   },
   "outputs": [],
   "source": [
    "fig = plt.figure(figsize=[12, 10], dpi=600)\n",
    "\n",
    "ax = fig.gca()\n",
    "ax.spines[\"bottom\"].set_linewidth(2)\n",
    "ax.spines[\"top\"].set_linewidth(2)\n",
    "ax.spines[\"left\"].set_linewidth(2)\n",
    "ax.spines[\"right\"].set_linewidth(2)\n",
    "\n",
    "'''\n",
    "for i, part in enumerate([si, ge, sn]):\n",
    "    part = part.sort_values('temperature')\n",
    "    ax.errorbar(1000/part['temperature'], part['D'] *10**-8, part['D_std']*10**-8, \n",
    "                label=['Si', 'Ge', 'Sn'][i], \n",
    "                capsize=12, fmt=fmts[i], markersize=12, linestyle='--', linewidth=2)\n",
    "'''\n",
    "\n",
    "\n",
    "#plt.scatter(marzari['x'], 10**marzari['Curve1'], label='AIMD LiGePS 2017', \n",
    "#           s=180, marker='s', color='blue', )\n",
    "plt.scatter(moSi2013['x'], 10**moSi2013['Curve1'], label='AIMD LiSiPS 2013', \n",
    "           s=180, marker='o', color='blue', facecolor='none', \n",
    "            linewidths=2, linestyle='dashed')\n",
    "plt.scatter(mo['x'], 10**mo['Curve1'], label='AIMD LiGePS 2012',\n",
    "           s=300, marker='^', color='orange', facecolor='none', \n",
    "            linewidths=2, linestyle='dashed')\n",
    "plt.scatter(moSn2013['x'], 10**moSn2013['Curve1'], label='AIMD LiSnPS 2013', \n",
    "           s=180, marker='v', color='red', facecolor='none', \n",
    "            linewidths=2, linestyle='dashed')\n",
    "\n",
    "\n",
    "\n",
    "plt.scatter(1000/disordersi['temperature'], disordersi['D']*10**-8, \n",
    "            color='blue', s=300, label='DP-PBE LiSiPS', marker='^')\n",
    "plt.scatter(1000/disorderge['temperature'], disorderge['D']*10**-8, \n",
    "            color='orange', s=300, label='DP-PBE LiGePS', marker='o')\n",
    "plt.scatter(1000/disordersn['temperature'], disordersn['D']*10**-8, \n",
    "            color='red', s=300, label='DP-PBE LiSnPS', marker='v')\n",
    "\n",
    "\n",
    "\n",
    "plt.scatter(kuhnlisips['x'], 10**kuhnlisips['Curve1'], \n",
    "            color='blue', facecolor='none', s=200, marker='^', \n",
    "            linewidths=3, label='exp. LiSiPS 2013')\n",
    "plt.scatter(kuhnligeps['x'], 10**kuhnligeps['Curve1'], \n",
    "            color='orange', facecolor='none', marker='o', s=200, \n",
    "            linewidths=3, label='exp. LiGePS 2013')\n",
    "plt.scatter(kuhnlisnps['x'], 10**kuhnlisnps['Curve1'],\n",
    "            color='red', facecolor='none', s=200, marker='v', \n",
    "            linewidths=3, label='exp. LiSnPS 2013')\n",
    "\n",
    "plt.legend(loc=3, fontsize=20)\n",
    "    \n",
    "plt.yscale('log')\n",
    "\n",
    "#plt.ylim(10**(-4.5), 10**(0),)\n",
    "plt.ylim(10**(-13), 10**(-7),)\n",
    "plt.xlim(0.5, 4.2)\n",
    "#plt.grid()\n",
    "plt.xlabel('1000/T(K)', fontsize=25)\n",
    "plt.ylabel('D ($m^2/s$)', fontsize=25)\n",
    "plt.yticks(fontsize=22)\n",
    "plt.xticks([1, 1.5, 2, 2.5, 3, 3.5, 4], fontsize=20)"
   ]
  },
  {
   "cell_type": "markdown",
   "metadata": {
    "ExecuteTime": {
     "end_time": "2020-12-14T13:37:49.143099Z",
     "start_time": "2020-12-14T13:37:49.139165Z"
    }
   },
   "source": [
    "### LiGePS"
   ]
  },
  {
   "cell_type": "code",
   "execution_count": null,
   "metadata": {
    "ExecuteTime": {
     "end_time": "2021-12-17T07:17:16.853549Z",
     "start_time": "2021-12-17T07:17:16.848317Z"
    }
   },
   "outputs": [],
   "source": [
    "mo"
   ]
  },
  {
   "cell_type": "code",
   "execution_count": null,
   "metadata": {
    "ExecuteTime": {
     "end_time": "2021-12-17T07:17:23.236200Z",
     "start_time": "2021-12-17T07:17:17.450400Z"
    }
   },
   "outputs": [],
   "source": [
    "fig = plt.figure(figsize=[12, 10], dpi=600)\n",
    "\n",
    "ax = fig.gca()\n",
    "ax.spines[\"bottom\"].set_linewidth(2)\n",
    "ax.spines[\"top\"].set_linewidth(2)\n",
    "ax.spines[\"left\"].set_linewidth(2)\n",
    "ax.spines[\"right\"].set_linewidth(2)\n",
    "\n",
    "plt.scatter(marzari['x'], 10**marzari['Curve1'], label='AIMD LiGePS 2017', \n",
    "           s=180, marker='s', color='blue', )\n",
    "plt.scatter(mo['x'], 10**mo['Curve1'], label='AIMD LiGePS 2012',\n",
    "           s=300, marker='^', color='orange', facecolor='none', \n",
    "            linewidths=2, linestyle='dashed')\n",
    "k, b = np.polyfit(mo['x'], mo['Curve1'], 1)\n",
    "xe = np.linspace(1, 4, 4,)\n",
    "#plt.plot(xe, 10**(k*xe+b))\n",
    "\n",
    "plt.scatter(1000/disorderge['temperature'], disorderge['D']*10**-8, \n",
    "            color='orange', s=300, label='DP-PBE LiGePS', marker='o')\n",
    "\n",
    "\n",
    "plt.scatter(kuhnligeps['x'], 10**kuhnligeps['Curve1'], \n",
    "            color='orange', facecolor='none', marker='o', s=200, \n",
    "            linewidths=3, label='exp. LiGePS 2013')\n",
    "\n",
    "plt.legend(loc=3, fontsize=20)\n",
    "    \n",
    "plt.yscale('log')\n",
    "\n",
    "#plt.ylim(10**(-4.5), 10**(0),)\n",
    "plt.ylim(10**(-12.5), 10**(-7.5),)\n",
    "plt.xlim(0.5, 4.2)\n",
    "#plt.grid()\n",
    "plt.xlabel('1000/T(K)', fontsize=25)\n",
    "plt.ylabel('D ($m^2/s$)', fontsize=25)\n",
    "plt.yticks(fontsize=22)\n",
    "plt.xticks([1, 1.5, 2, 2.5, 3, 3.5, 4], fontsize=20)"
   ]
  },
  {
   "cell_type": "markdown",
   "metadata": {
    "ExecuteTime": {
     "end_time": "2020-12-14T13:20:35.153054Z",
     "start_time": "2020-12-14T13:20:35.149208Z"
    }
   },
   "source": [
    "### LiSiPS"
   ]
  },
  {
   "cell_type": "code",
   "execution_count": null,
   "metadata": {
    "ExecuteTime": {
     "end_time": "2021-12-17T07:17:29.170938Z",
     "start_time": "2021-12-17T07:17:23.488548Z"
    },
    "scrolled": false
   },
   "outputs": [],
   "source": [
    "fig = plt.figure(figsize=[12, 10], dpi=600)\n",
    "\n",
    "ax = fig.gca()\n",
    "ax.spines[\"bottom\"].set_linewidth(2)\n",
    "ax.spines[\"top\"].set_linewidth(2)\n",
    "ax.spines[\"left\"].set_linewidth(2)\n",
    "ax.spines[\"right\"].set_linewidth(2)\n",
    "\n",
    "\n",
    "#plt.scatter(marzari['x'], 10**marzari['Curve1'], label='AIMD LiGePS 2017', \n",
    "#           s=180, marker='s', color='blue', )\n",
    "plt.scatter(moSi2013['x'], 10**moSi2013['Curve1'], label='AIMD LiSiPS 2013', \n",
    "           s=180, marker='o', color='blue', facecolor='none', \n",
    "            linewidths=2, linestyle='dashed')\n",
    "k, b = np.polyfit(moSi2013['x'][3:], moSi2013['Curve1'][3:], 1)\n",
    "xe = np.linspace(1, 4, 4,)\n",
    "#plt.plot(xe, 10**(k*xe+b))\n",
    "\n",
    "plt.scatter(1000/disordersi['temperature'], disordersi['D']*10**-8, \n",
    "            color='blue', s=300, label='DP-PBE LiSiPS', marker='^')\n",
    "\n",
    "plt.scatter(kuhnlisips['x'], 10**kuhnlisips['Curve1'], \n",
    "            color='blue', facecolor='none', s=200, marker='^', \n",
    "            linewidths=3, label='exp. LiSiPS 2013')\n",
    "\n",
    "plt.legend(loc=3, fontsize=20)\n",
    "    \n",
    "plt.yscale('log')\n",
    "\n",
    "#plt.ylim(10**(-4.5), 10**(0),)\n",
    "plt.ylim(10**(-12.5), 10**(-7.5),)\n",
    "plt.xlim(0.5, 4.2)\n",
    "#plt.grid()\n",
    "plt.xlabel('1000/T(K)', fontsize=25)\n",
    "plt.ylabel('D ($m^2/s$)', fontsize=25)\n",
    "plt.yticks(fontsize=22)\n",
    "plt.xticks([1, 1.5, 2, 2.5, 3, 3.5, 4], fontsize=20)"
   ]
  },
  {
   "cell_type": "markdown",
   "metadata": {
    "ExecuteTime": {
     "end_time": "2020-12-14T13:36:05.185868Z",
     "start_time": "2020-12-14T13:36:05.180113Z"
    }
   },
   "source": [
    "### LiSnPS"
   ]
  },
  {
   "cell_type": "code",
   "execution_count": null,
   "metadata": {
    "ExecuteTime": {
     "end_time": "2021-12-17T07:17:34.878377Z",
     "start_time": "2021-12-17T07:17:29.388425Z"
    },
    "scrolled": false
   },
   "outputs": [],
   "source": [
    "fig = plt.figure(figsize=[12, 10], dpi=600)\n",
    "\n",
    "ax = fig.gca()\n",
    "ax.spines[\"bottom\"].set_linewidth(2)\n",
    "ax.spines[\"top\"].set_linewidth(2)\n",
    "ax.spines[\"left\"].set_linewidth(2)\n",
    "ax.spines[\"right\"].set_linewidth(2)\n",
    "\n",
    "plt.scatter(moSn2013['x'], 10**moSn2013['Curve1'], label='AIMD LiSnPS 2013', \n",
    "           s=180, marker='v', color='red', facecolor='none', \n",
    "            linewidths=2, linestyle='dashed')\n",
    "k, b = np.polyfit(moSn2013['x'], moSn2013['Curve1'], 1)\n",
    "xe = np.linspace(1, 4, 4,)\n",
    "#plt.plot(xe, 10**(k*xe+b))\n",
    "\n",
    "\n",
    "plt.scatter(1000/disordersn['temperature'], disordersn['D']*10**-8, \n",
    "            color='red', s=300, label='DP-PBE LiSnPS', marker='v')\n",
    "\n",
    "plt.scatter(kuhnlisnps['x'], 10**kuhnlisnps['Curve1'],\n",
    "            color='red', facecolor='none', s=200, marker='v', \n",
    "            linewidths=3, label='exp. LiSnPS 2013')\n",
    "\n",
    "plt.legend(loc=3, fontsize=20)\n",
    "    \n",
    "plt.yscale('log')\n",
    "\n",
    "#plt.ylim(10**(-4.5), 10**(0),)\n",
    "plt.ylim(10**(-12.5), 10**(-7.5),)\n",
    "plt.xlim(0.5, 4.2)\n",
    "#plt.grid()\n",
    "plt.xlabel('1000/T(K)', fontsize=25)\n",
    "plt.ylabel('D ($m^2/s$)', fontsize=25)\n",
    "plt.yticks(fontsize=22)\n",
    "plt.xticks([1, 1.5, 2, 2.5, 3, 3.5, 4], fontsize=20)"
   ]
  }
 ],
 "metadata": {
  "kernelspec": {
   "display_name": "Python 3 (ipykernel)",
   "language": "python",
   "name": "python3"
  },
  "language_info": {
   "codemirror_mode": {
    "name": "ipython",
    "version": 3
   },
   "file_extension": ".py",
   "mimetype": "text/x-python",
   "name": "python",
   "nbconvert_exporter": "python",
   "pygments_lexer": "ipython3",
   "version": "3.9.7"
  },
  "latex_envs": {
   "LaTeX_envs_menu_present": true,
   "autoclose": false,
   "autocomplete": true,
   "bibliofile": "biblio.bib",
   "cite_by": "apalike",
   "current_citInitial": 1,
   "eqLabelWithNumbers": true,
   "eqNumInitial": 1,
   "hotkeys": {
    "equation": "Ctrl-E",
    "itemize": "Ctrl-I"
   },
   "labels_anchors": false,
   "latex_user_defs": false,
   "report_style_numbering": false,
   "user_envs_cfg": false
  },
  "toc": {
   "base_numbering": 1,
   "nav_menu": {},
   "number_sections": true,
   "sideBar": true,
   "skip_h1_title": false,
   "title_cell": "Table of Contents",
   "title_sidebar": "Contents",
   "toc_cell": false,
   "toc_position": {},
   "toc_section_display": true,
   "toc_window_display": false
  },
  "varInspector": {
   "cols": {
    "lenName": 16,
    "lenType": 16,
    "lenVar": 40
   },
   "kernels_config": {
    "python": {
     "delete_cmd_postfix": "",
     "delete_cmd_prefix": "del ",
     "library": "var_list.py",
     "varRefreshCmd": "print(var_dic_list())"
    },
    "r": {
     "delete_cmd_postfix": ") ",
     "delete_cmd_prefix": "rm(",
     "library": "var_list.r",
     "varRefreshCmd": "cat(var_dic_list()) "
    }
   },
   "types_to_exclude": [
    "module",
    "function",
    "builtin_function_or_method",
    "instance",
    "_Feature"
   ],
   "window_display": false
  }
 },
 "nbformat": 4,
 "nbformat_minor": 2
}
