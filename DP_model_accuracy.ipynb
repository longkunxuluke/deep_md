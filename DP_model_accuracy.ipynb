{
 "cells": [
  {
   "cell_type": "code",
   "execution_count": null,
   "metadata": {
    "ExecuteTime": {
     "end_time": "2021-12-17T05:41:12.677856Z",
     "start_time": "2021-12-17T05:41:12.673788Z"
    }
   },
   "outputs": [],
   "source": [
    "import matplotlib\n",
    "matplotlib.rcParams['font.size'] = 24\n",
    "import matplotlib.pyplot as plt\n",
    "matplotlib.rcParams.update({\n",
    "    \"font.family\": \"serif\",\n",
    "    'axes.linewidth': 2,\n",
    "})"
   ]
  },
  {
   "cell_type": "code",
   "execution_count": null,
   "metadata": {
    "ExecuteTime": {
     "end_time": "2021-12-17T05:41:12.797652Z",
     "start_time": "2021-12-17T05:41:12.795586Z"
    }
   },
   "outputs": [],
   "source": [
    "import numpy as np\n",
    "import os\n",
    "import glob"
   ]
  },
  {
   "cell_type": "code",
   "execution_count": null,
   "metadata": {
    "ExecuteTime": {
     "end_time": "2021-12-17T05:41:12.961951Z",
     "start_time": "2021-12-17T05:41:12.959108Z"
    }
   },
   "outputs": [],
   "source": [
    "eouts = glob.glob('LiGePS/accuracy/energy-*.npy')\n",
    "eouts.sort()"
   ]
  },
  {
   "cell_type": "code",
   "execution_count": null,
   "metadata": {
    "ExecuteTime": {
     "end_time": "2021-12-17T05:41:13.889252Z",
     "start_time": "2021-12-17T05:41:13.885078Z"
    }
   },
   "outputs": [],
   "source": [
    "fouts = [eout.replace('energy', 'force') for eout in eouts]"
   ]
  },
  {
   "cell_type": "code",
   "execution_count": null,
   "metadata": {
    "ExecuteTime": {
     "end_time": "2021-12-17T05:41:21.603270Z",
     "start_time": "2021-12-17T05:41:21.519213Z"
    }
   },
   "outputs": [],
   "source": [
    "e = [np.load(out) for out in eouts]\n",
    "f = [np.load(out) for out in fouts]"
   ]
  },
  {
   "cell_type": "code",
   "execution_count": null,
   "metadata": {
    "ExecuteTime": {
     "end_time": "2021-12-17T05:41:33.148796Z",
     "start_time": "2021-12-17T05:41:33.144330Z"
    }
   },
   "outputs": [],
   "source": [
    "natoms = [j.shape[0]//i.shape[0] for i, j in zip(e, f)]\n",
    "ep = np.vstack([i/j for i, j in zip(e, natoms)])"
   ]
  },
  {
   "cell_type": "code",
   "execution_count": null,
   "metadata": {
    "ExecuteTime": {
     "end_time": "2021-12-17T05:41:34.174420Z",
     "start_time": "2021-12-17T05:41:34.170805Z"
    }
   },
   "outputs": [],
   "source": [
    "error = np.abs(ep[:, 0] - ep[:, 1])"
   ]
  },
  {
   "cell_type": "code",
   "execution_count": null,
   "metadata": {
    "ExecuteTime": {
     "end_time": "2021-12-17T05:41:40.574845Z",
     "start_time": "2021-12-17T05:41:40.271847Z"
    }
   },
   "outputs": [],
   "source": [
    "plt.figure(figsize=[6, 6])\n",
    "\n",
    "plt.hist(np.abs(ep[:, 0]-ep[:, 1]), \n",
    "         density=True, cumulative=True, histtype='step', bins=np.linspace(0, 0.01, 101))\n",
    "\n",
    "plt.grid(linestyle='dashed')\n",
    "plt.xlabel('$E_{DFT} (eV/atom$)')\n",
    "plt.ylabel('$E_{DP} (eV/atom$)')"
   ]
  },
  {
   "cell_type": "code",
   "execution_count": null,
   "metadata": {
    "ExecuteTime": {
     "end_time": "2021-12-17T05:42:02.072365Z",
     "start_time": "2021-12-17T05:42:01.811165Z"
    }
   },
   "outputs": [],
   "source": [
    "plt.figure(figsize=[6, 6])\n",
    "\n",
    "plt.scatter(ep[:, 0], ep[:, 1])\n",
    "\n",
    "#plt.grid(linestyle='dashed')\n",
    "plt.xlabel('$E_{DFT} (eV/atom$)')\n",
    "plt.ylabel('$E_{DP} (eV/atom$)')"
   ]
  },
  {
   "cell_type": "code",
   "execution_count": null,
   "metadata": {
    "ExecuteTime": {
     "end_time": "2021-12-17T05:42:06.893227Z",
     "start_time": "2021-12-17T05:42:06.868553Z"
    }
   },
   "outputs": [],
   "source": [
    "fstack = np.vstack(f)"
   ]
  },
  {
   "cell_type": "code",
   "execution_count": null,
   "metadata": {
    "ExecuteTime": {
     "end_time": "2021-12-17T05:42:09.046031Z",
     "start_time": "2021-12-17T05:42:08.985040Z"
    },
    "scrolled": true
   },
   "outputs": [],
   "source": [
    "dft = np.hstack([fstack[:, 0], fstack[:, 1], fstack[:, 2]])\n",
    "dp = np.hstack([fstack[:, 3], fstack[:, 4], fstack[:, 5]])"
   ]
  },
  {
   "cell_type": "code",
   "execution_count": null,
   "metadata": {
    "ExecuteTime": {
     "end_time": "2021-12-17T05:42:13.334415Z",
     "start_time": "2021-12-17T05:42:12.830393Z"
    }
   },
   "outputs": [],
   "source": [
    "plt.figure(figsize=[6, 6])\n",
    "\n",
    "plt.hist(np.abs(dft-dp), \n",
    "         density=True, cumulative=True, histtype='step', bins=np.linspace(0, 0.5, 501))\n",
    "plt.xticks(np.linspace(0, 0.5, 6))\n",
    "plt.grid(linestyle='dashed')\n",
    "plt.xlabel('$E_{DFT} (eV/atom$)')\n",
    "plt.ylabel('$E_{DP} (eV/atom$)')"
   ]
  },
  {
   "cell_type": "code",
   "execution_count": null,
   "metadata": {
    "ExecuteTime": {
     "end_time": "2021-12-17T05:43:06.801371Z",
     "start_time": "2021-12-17T05:42:21.738264Z"
    }
   },
   "outputs": [],
   "source": [
    "plt.figure(figsize=[6, 6])\n",
    "plt.scatter(dft, dp, alpha=0.2)\n",
    "\n",
    "#plt.grid()\n",
    "plt.xlabel('$f_{DFT} (eV/\\AA$)')\n",
    "plt.ylabel('$f_{DP} (eV/\\AA$)')"
   ]
  }
 ],
 "metadata": {
  "kernelspec": {
   "display_name": "Python 3 (ipykernel)",
   "language": "python",
   "name": "python3"
  },
  "language_info": {
   "codemirror_mode": {
    "name": "ipython",
    "version": 3
   },
   "file_extension": ".py",
   "mimetype": "text/x-python",
   "name": "python",
   "nbconvert_exporter": "python",
   "pygments_lexer": "ipython3",
   "version": "3.9.7"
  },
  "latex_envs": {
   "LaTeX_envs_menu_present": true,
   "autoclose": false,
   "autocomplete": true,
   "bibliofile": "biblio.bib",
   "cite_by": "apalike",
   "current_citInitial": 1,
   "eqLabelWithNumbers": true,
   "eqNumInitial": 1,
   "hotkeys": {
    "equation": "Ctrl-E",
    "itemize": "Ctrl-I"
   },
   "labels_anchors": false,
   "latex_user_defs": false,
   "report_style_numbering": false,
   "user_envs_cfg": false
  },
  "toc": {
   "base_numbering": 1,
   "nav_menu": {},
   "number_sections": true,
   "sideBar": true,
   "skip_h1_title": false,
   "title_cell": "Table of Contents",
   "title_sidebar": "Contents",
   "toc_cell": false,
   "toc_position": {},
   "toc_section_display": true,
   "toc_window_display": false
  },
  "varInspector": {
   "cols": {
    "lenName": 16,
    "lenType": 16,
    "lenVar": 40
   },
   "kernels_config": {
    "python": {
     "delete_cmd_postfix": "",
     "delete_cmd_prefix": "del ",
     "library": "var_list.py",
     "varRefreshCmd": "print(var_dic_list())"
    },
    "r": {
     "delete_cmd_postfix": ") ",
     "delete_cmd_prefix": "rm(",
     "library": "var_list.r",
     "varRefreshCmd": "cat(var_dic_list()) "
    }
   },
   "types_to_exclude": [
    "module",
    "function",
    "builtin_function_or_method",
    "instance",
    "_Feature"
   ],
   "window_display": false
  }
 },
 "nbformat": 4,
 "nbformat_minor": 2
}
