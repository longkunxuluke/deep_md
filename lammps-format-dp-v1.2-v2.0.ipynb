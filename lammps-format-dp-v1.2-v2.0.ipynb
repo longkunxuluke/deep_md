{
 "cells": [
  {
   "cell_type": "code",
   "execution_count": 1,
   "id": "1b756f98",
   "metadata": {},
   "outputs": [],
   "source": [
    "import os\n",
    "import glob"
   ]
  },
  {
   "cell_type": "code",
   "execution_count": 13,
   "id": "8271e3ab",
   "metadata": {},
   "outputs": [],
   "source": [
    "scripts = glob.glob(\"LiGePS/**/input.lammps\", recursive=True)"
   ]
  },
  {
   "cell_type": "markdown",
   "id": "8bad3a7b",
   "metadata": {},
   "source": [
    "## v1.2-> v2.0"
   ]
  },
  {
   "cell_type": "code",
   "execution_count": 12,
   "id": "23cefde9",
   "metadata": {},
   "outputs": [],
   "source": [
    "for script in scripts:\n",
    "    with open(script, 'r') as f:\n",
    "        lines = f.readlines()\n",
    "    for i, l in enumerate(lines):\n",
    "        if 'pair_coeff' in l:\n",
    "            lines[i] = 'pair_coeff      *  *\\n'\n",
    "    with open(script, 'w') as f:\n",
    "        f.writelines(lines)"
   ]
  },
  {
   "cell_type": "markdown",
   "id": "d95e9129",
   "metadata": {},
   "source": [
    "# v2.0 -> v1.2"
   ]
  },
  {
   "cell_type": "code",
   "execution_count": 12,
   "id": "506a1d28",
   "metadata": {},
   "outputs": [],
   "source": [
    "for script in scripts:\n",
    "    with open(script, 'r') as f:\n",
    "        lines = f.readlines()\n",
    "    for i, l in enumerate(lines):\n",
    "        if 'pair_coeff' in l:\n",
    "            lines[i] = 'pair_coeff      \\n'\n",
    "    with open(script, 'w') as f:\n",
    "        f.writelines(lines)"
   ]
  }
 ],
 "metadata": {
  "kernelspec": {
   "display_name": "Python 3 (ipykernel)",
   "language": "python",
   "name": "python3"
  },
  "language_info": {
   "codemirror_mode": {
    "name": "ipython",
    "version": 3
   },
   "file_extension": ".py",
   "mimetype": "text/x-python",
   "name": "python",
   "nbconvert_exporter": "python",
   "pygments_lexer": "ipython3",
   "version": "3.9.7"
  }
 },
 "nbformat": 4,
 "nbformat_minor": 5
}
